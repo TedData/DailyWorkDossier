{
 "cells": [
  {
   "cell_type": "code",
   "execution_count": 4,
   "metadata": {
    "collapsed": true,
    "jupyter": {
     "outputs_hidden": true
    }
   },
   "outputs": [],
   "source": [
    "import requests\n",
    "from io import StringIO\n",
    "import numpy as np\n",
    "import time\n",
    "# https://github.com/TedData/pitcture/blob/main/EnglishStudy/sentence.txt\n",
    "url = \"https://raw.githubusercontent.com/TedData/pitcture/main/EnglishStudy/sentence.txt\"\n",
    "response = requests.get(url)\n",
    "if response.status_code == 200:\n",
    "    file_content = StringIO(response.text)\n",
    "    make_list = np.array([])\n",
    "    for line in file_content:\n",
    "        make_list = np.append(make_list, np.array(line.rstrip('\\n')))\n",
    "else:\n",
    "    print(f\"Failed to fetch file. Status code: {response.status_code}\")\n",
    "def speaking(clock_in, start_times):\n",
    "    if clock_in < 4:\n",
    "        clock_in = 4\n",
    "    elif clock_in > len(make_list):\n",
    "        clock_in = len(make_list)\n",
    "        print(f\"Congratulations, you've done your best! Currently, the ranking only goes up to Level {clock_in}.\")\n",
    "    ran = np.random.randint(6, int(clock_in * (clock_in + 1) / 2))\n",
    "    summary = 1\n",
    "    for n in range(clock_in):\n",
    "        summary += n\n",
    "        if ran < summary:\n",
    "            break\n",
    "    question_number = make_list[n].replace(\"   \", '\\n') # print(make_list[int(n)])\n",
    "    print(\"\\n\\033[6;6;1m\" + question_number.replace(\"  \", '\\n\\n\\033[1m\\033[31m') + \"\\033[0m\\n\\n\")\n",
    "    left_time = int(time.strftime(\"%H%M\", time.localtime(time.time())))\n",
    "    duration = int(60 - ((left_time // 100 - start_times // 100) * 60 + (left_time % 100 - start_times % 100)))\n",
    "    print(f\"\\033[42;37mNo.{int(n + 1)} Start Time: {str(start_times)[:-2]}:{str(start_times)[-2:]}\")\n",
    "    if duration > 50:\n",
    "        print(f\"{str(left_time)[:-2]}:{str(left_time)[-2:]}，刚开始，加油，还剩{duration}分钟\")\n",
    "    elif duration > 40:\n",
    "        print(f\"{str(left_time)[:-2]}:{str(left_time)[-2:]}，厉害第一阶段结束，还剩{duration}分钟\")\n",
    "    elif duration > 30:\n",
    "        print(f\"{str(left_time)[:-2]}:{str(left_time)[-2:]}，坚持，马上就到一半时间了，还剩{duration}分钟\")\n",
    "    elif duration > 20:\n",
    "        print(f'{str(left_time)[:-2]}:{str(left_time)[-2:]}，已经过了一半了，还剩{duration}分钟')\n",
    "    elif duration > 10:\n",
    "        print(f\"{str(left_time)[:-2]}:{str(left_time)[-2:]}，坚持住，还差最后一个阶段，还剩{duration}分钟\")\n",
    "    elif duration > 0:\n",
    "        print(f\"{str(left_time)[:-2]}:{str(left_time)[-2:]}，已经是最后一个阶段了，还剩{duration}分钟\")\n",
    "    else:\n",
    "        print(\"又是完美的一天！！！\")\n",
    "    print(\"\\033[0m\", end = \"\")\n",
    "    "
   ]
  },
  {
   "cell_type": "code",
   "execution_count": 41,
   "metadata": {},
   "outputs": [
    {
     "name": "stdout",
     "output_type": "stream",
     "text": [
      "\n",
      "\u001b[6;6;1mA good team player always works collaboratively within the team and actively contributes to the group in order to complete tasks and manage projects.\u001b[0m\n",
      "\n",
      "\n",
      "\u001b[42;37mNo.154 Start Time: 8:00\n",
      "8:51，已经是最后一个阶段了，还剩9分钟\n",
      "\u001b[0m"
     ]
    }
   ],
   "source": [
    "start_times = 800\n",
    "clock_in = 157\n",
    "\n",
    "speaking(clock_in, start_times)"
   ]
  },
  {
   "cell_type": "code",
   "execution_count": null,
   "metadata": {},
   "outputs": [],
   "source": []
  }
 ],
 "metadata": {
  "kernelspec": {
   "display_name": "Python 3 (ipykernel)",
   "language": "python",
   "name": "python3"
  },
  "language_info": {
   "codemirror_mode": {
    "name": "ipython",
    "version": 3
   },
   "file_extension": ".py",
   "mimetype": "text/x-python",
   "name": "python",
   "nbconvert_exporter": "python",
   "pygments_lexer": "ipython3",
   "version": "3.11.5"
  }
 },
 "nbformat": 4,
 "nbformat_minor": 4
}
