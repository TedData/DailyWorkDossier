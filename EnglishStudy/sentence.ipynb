{
 "cells": [
  {
   "cell_type": "code",
   "execution_count": 1,
   "metadata": {
    "collapsed": true,
    "jupyter": {
     "outputs_hidden": true
    }
   },
   "outputs": [],
   "source": [
    "import requests\n",
    "from io import StringIO\n",
    "import numpy as np\n",
    "import time\n",
    "def url_file():\n",
    "    # https://github.com/TedData/pitcture/blob/main/EnglishStudy/sentence.txt\n",
    "    url = \"https://raw.githubusercontent.com/TedData/pitcture/main/EnglishStudy/sentence.txt\"\n",
    "    response = requests.get(url)\n",
    "    if response.status_code == 200:\n",
    "        file_content = StringIO(response.text)\n",
    "        make_list = np.array([])\n",
    "        for line in file_content:\n",
    "            make_list = np.append(make_list, np.array(line.rstrip('\\n')))\n",
    "        return make_list\n",
    "    else:\n",
    "        print(f\"Failed to fetch file. Status code: {response.status_code}\")\n",
    "def path_file():\n",
    "    file_path = r\"/Users/Ted/Library/Mobile Documents/com~apple~CloudDocs/EnglishStudy/sentence.txt\"\n",
    "    try:\n",
    "        with open(file_path, \"r\") as file:\n",
    "            line = file.readline()\n",
    "            make_list = np.array([])\n",
    "            while line:\n",
    "                make_list = np.append(make_list, np.array(line.strip()))\n",
    "                line = file.readline()\n",
    "    except FileNotFoundError:\n",
    "        print(f\"File '{file_path}' not found.\")\n",
    "    except Exception as e:\n",
    "        print(\"An error occurred:\", str(e))\n",
    "    return make_list\n",
    "def speaking(clock_in, start_times):\n",
    "    #make_list = url_file()\n",
    "    make_list = path_file()\n",
    "    if clock_in < 4:\n",
    "        clock_in = 4\n",
    "    elif clock_in > len(make_list):\n",
    "        clock_in = len(make_list)\n",
    "        print(f\"Congratulations, you've done your best! Currently, the ranking only goes up to Level {clock_in}.\")\n",
    "    ran = np.random.randint(6, int(clock_in * (clock_in + 1) / 2))\n",
    "    summary = 1\n",
    "    for n in range(clock_in):\n",
    "        summary += n\n",
    "        if ran < summary:\n",
    "            break\n",
    "    question_number = make_list[n].replace(\"   \", '\\n') # print(make_list[int(n)])\n",
    "    print(\"\\n\\033[6;6;1m\" + question_number.replace(\"  \", '\\n\\n\\033[1m\\033[31m') + \"\\033[0m\\n\\n\")\n",
    "    left_time = int(time.strftime(\"%H%M\", time.localtime(time.time())))\n",
    "    duration = int(60 - ((left_time // 100 - start_times // 100) * 60 + (left_time % 100 - start_times % 100)))\n",
    "    print(f\"\\033[42;37mNo.{int(n + 1)} Start Time: {str(start_times)[:-2]}:{str(start_times)[-2:]}\")\n",
    "    if duration > 50:\n",
    "        print(f\"{str(left_time)[:-2]}:{str(left_time)[-2:]}，刚开始，加油，还剩{duration}分钟\")\n",
    "    elif duration > 40:\n",
    "        print(f\"{str(left_time)[:-2]}:{str(left_time)[-2:]}，厉害第一阶段结束，还剩{duration}分钟\")\n",
    "    elif duration > 30:\n",
    "        print(f\"{str(left_time)[:-2]}:{str(left_time)[-2:]}，坚持，马上就到一半时间了，还剩{duration}分钟\")\n",
    "    elif duration > 20:\n",
    "        print(f'{str(left_time)[:-2]}:{str(left_time)[-2:]}，已经过了一半了，还剩{duration}分钟')\n",
    "    elif duration > 10:\n",
    "        print(f\"{str(left_time)[:-2]}:{str(left_time)[-2:]}，坚持住，还差最后一个阶段，还剩{duration}分钟\")\n",
    "    elif duration > 0:\n",
    "        print(f\"{str(left_time)[:-2]}:{str(left_time)[-2:]}，已经是最后一个阶段了，还剩{duration}分钟\")\n",
    "    else:\n",
    "        print(\"又是完美的一天！！！\")\n",
    "    print(\"\\033[0m\", end = \"\")\n",
    "    "
   ]
  },
  {
   "cell_type": "code",
   "execution_count": 19,
   "metadata": {},
   "outputs": [
    {
     "name": "stdout",
     "output_type": "stream",
     "text": [
      "\n",
      "\u001b[6;6;1mDid you get stuck/caught in traffic?\n",
      "I was caught/stuck in traffic.\n",
      "\n",
      "\u001b[1m\u001b[31m你被堵在交通中了吗？\n",
      "我被堵在交通中了。\u001b[0m\n",
      "\n",
      "\n",
      "\u001b[42;37mNo.139 Start Time: 8:00\n",
      "又是完美的一天！！！\n",
      "\u001b[0m"
     ]
    }
   ],
   "source": [
    "start_times = 800\n",
    "clock_in = 175\n",
    "\n",
    "speaking(clock_in, start_times)"
   ]
  },
  {
   "cell_type": "code",
   "execution_count": null,
   "metadata": {},
   "outputs": [],
   "source": []
  }
 ],
 "metadata": {
  "kernelspec": {
   "display_name": "Python 3 (ipykernel)",
   "language": "python",
   "name": "python3"
  },
  "language_info": {
   "codemirror_mode": {
    "name": "ipython",
    "version": 3
   },
   "file_extension": ".py",
   "mimetype": "text/x-python",
   "name": "python",
   "nbconvert_exporter": "python",
   "pygments_lexer": "ipython3",
   "version": "3.10.9"
  }
 },
 "nbformat": 4,
 "nbformat_minor": 4
}
